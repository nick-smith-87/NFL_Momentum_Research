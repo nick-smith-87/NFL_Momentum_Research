{
 "cells": [
  {
   "cell_type": "code",
   "execution_count": 1,
   "id": "c347c515",
   "metadata": {},
   "outputs": [
    {
     "name": "stdout",
     "output_type": "stream",
     "text": [
      "2017 done.\n",
      "2018 done.\n",
      "2019 done.\n",
      "2020 done.\n",
      "2021 done.\n",
      "Downcasting floats.\n"
     ]
    },
    {
     "name": "stderr",
     "output_type": "stream",
     "text": [
      "/Users/nicksmith/opt/anaconda3/envs/NFL/lib/python3.10/site-packages/nfl_data_py/__init__.py:137: FutureWarning: In a future version, `df.iloc[:, i] = newvals` will attempt to set the values inplace instead of always setting a new array. To retain the old behavior, use either `df[df.columns[i]] = newvals` or, if columns are non-unique, `df.isetitem(i, newvals)`\n",
      "  plays.loc[:, cols] = plays.loc[:, cols].astype(numpy.float32)\n"
     ]
    }
   ],
   "source": [
    "import pandas as pd\n",
    "import numpy as np\n",
    "import nfl_data_py as nfl\n",
    "import matplotlib.pyplot as plt\n",
    "full_data = nfl.import_pbp_data([2017, 2018, 2019, 2020, 2021], downcast=True, cache=False, alt_path=None)"
   ]
  },
  {
   "cell_type": "code",
   "execution_count": null,
   "id": "7a300b20",
   "metadata": {},
   "outputs": [],
   "source": [
    "newData = full_data[['game_date', 'play_id', 'play_type_nfl', 'yardline_100', 'game_id', 'possession_team', 'home_team', 'away_team', 'total_home_score', 'total_away_score', 'home_score', 'away_score', 'wp', 'game_half', 'game_seconds_remaining', 'play_type', 'def_wp', 'punt_blocked', 'third_down_converted', 'third_down_failed', 'fourth_down_converted', 'fourth_down_failed', 'interception', 'punt_inside_twenty', 'kickoff_inside_twenty', 'kickoff_out_of_bounds', 'fumble_forced', 'fumble_not_forced', 'fumble_lost', 'fumble', 'safety', 'own_kickoff_recovery_td', 'qb_hit', 'sack', 'touchdown', 'pass_touchdown', 'rush_touchdown', 'return_touchdown', 'drive_ended_with_score']]\n",
    "newData = newData.rename(columns={\"wp\": \"win_percentage\", \"def_wp\": \"defense_win_percentage\"})\n",
    "newData"
   ]
  },
  {
   "cell_type": "code",
   "execution_count": null,
   "id": "90f9f1a8",
   "metadata": {},
   "outputs": [],
   "source": [
    "#temp = newData[['game_id', 'punt_blocked']]\n",
    "puntData = newData[newData[\"punt_blocked\"] == 1.0]\n",
    "pd.set_option('display.max_rows', None)\n",
    "puntData"
   ]
  },
  {
   "cell_type": "code",
   "execution_count": null,
   "id": "8ed338a1",
   "metadata": {},
   "outputs": [],
   "source": [
    "puntData.to_csv(\"punt.csv\")"
   ]
  },
  {
   "cell_type": "code",
   "execution_count": null,
   "id": "c7de6764",
   "metadata": {},
   "outputs": [],
   "source": [
    "updated_data = pd.read_csv(\"Punt_Block_Research - Sheet1 (1).csv\")\n",
    "pd.set_option('display.max_rows', None)\n",
    "pd.set_option('display.max_columns', None)\n",
    "updated_data"
   ]
  },
  {
   "cell_type": "code",
   "execution_count": null,
   "id": "0c7a9222",
   "metadata": {},
   "outputs": [],
   "source": [
    "mean_points_scored = updated_data[\"points scored off block/resulting drive\"].mean()\n",
    "print(\"avg points scored off block/resulting drive: \", mean_points_scored)"
   ]
  },
  {
   "cell_type": "code",
   "execution_count": null,
   "id": "c5fa2b74",
   "metadata": {},
   "outputs": [],
   "source": [
    "score_dict = updated_data[\"points scored off block/resulting drive\"].value_counts()\n",
    "score_dict"
   ]
  },
  {
   "cell_type": "code",
   "execution_count": null,
   "id": "79862cdd",
   "metadata": {},
   "outputs": [],
   "source": [
    "mylabels = [\"Touchdown\", \"Field Goal\", \"No score\", \"Safety\"]\n",
    "#plt.pie(score_dict, labels = mylabels, autopct='%1.2f%%')\n",
    "#plt.title('Type of Score after a blocked punt/resulting drive in the past 5 NFL seasons')\n"
   ]
  },
  {
   "cell_type": "code",
   "execution_count": null,
   "id": "11663011",
   "metadata": {},
   "outputs": [],
   "source": [
    "punt_not_returned = updated_data[updated_data[\"score off return\"] != 1]\n",
    "punt_not_returned"
   ]
  },
  {
   "cell_type": "code",
   "execution_count": null,
   "id": "5cfc8589",
   "metadata": {},
   "outputs": [],
   "source": [
    "score_dict = punt_not_returned[\"points scored off block/resulting drive\"].value_counts()\n",
    "score_dict"
   ]
  },
  {
   "cell_type": "code",
   "execution_count": null,
   "id": "68fdc0b4",
   "metadata": {},
   "outputs": [],
   "source": [
    "mylabels = [\"Touchdown\", \"Field Goal\", \"No score\"]\n",
    "#plt.pie(score_dict, labels = mylabels, autopct='%1.2f%%')\n",
    "#plt.title('Type of Score on resulting drive in the past 5 NFL seasons excluding points scored on the return')"
   ]
  },
  {
   "cell_type": "code",
   "execution_count": null,
   "id": "ec744891",
   "metadata": {},
   "outputs": [],
   "source": [
    "winning_dict = updated_data[\"Blocking Team was winning\"].value_counts()\n",
    "winning_dict"
   ]
  },
  {
   "cell_type": "code",
   "execution_count": null,
   "id": "afbedecd",
   "metadata": {},
   "outputs": [],
   "source": [
    "updated_data_blocking_team_winning = updated_data[updated_data[\"Blocking Team was winning\"] == 1]\n",
    "winning_dict = updated_data_blocking_team_winning[\"Blocking team won\"].value_counts()\n",
    "#winning_dict\n",
    "updated_data_blocking_team_winning"
   ]
  },
  {
   "cell_type": "code",
   "execution_count": null,
   "id": "5edf1f75",
   "metadata": {},
   "outputs": [],
   "source": [
    "updated_data_blocking_team_losing = updated_data[updated_data[\"Blocking Team was winning\"] == 0]\n",
    "winning_dict = updated_data_blocking_team_losing[\"Blocking team won\"].value_counts()\n",
    "winning_dict"
   ]
  },
  {
   "cell_type": "code",
   "execution_count": null,
   "id": "117fa7e6",
   "metadata": {},
   "outputs": [],
   "source": [
    "score_labels = [\"Team that blocked the punt\", \"Team that was blocked\"] \n",
    "scores_after_block_block_winning = []\n",
    "scores_after_block_block_losing = []\n",
    "scores_after_block_block_winning.append(updated_data_blocking_team_winning[\"Points scored by blocking team after block\"].mean())\n",
    "scores_after_block_block_winning.append(updated_data_blocking_team_winning[\"points scored by team that was blocked after block\"].mean())\n",
    "scores_after_block_block_losing.append(updated_data_blocking_team_losing[\"Points scored by blocking team after block\"].mean())\n",
    "scores_after_block_block_losing.append(updated_data_blocking_team_losing[\"points scored by team that was blocked after block\"].mean())\n",
    "scores_after_block_block_losing"
   ]
  },
  {
   "cell_type": "code",
   "execution_count": null,
   "id": "d25dfb88",
   "metadata": {},
   "outputs": [],
   "source": [
    "plt.bar(score_labels, scores_after_block_block_winning, color = [\"cyan\", \"orange\"])\n",
    "plt.title(\"Average points scored by teams after block occured when blocking team was winning\")\n",
    "x = score_labels\n",
    "y = scores_after_block_block_winning\n",
    "for i in range(len(x)):\n",
    "        plt.text(i, y[i]//2, y[i], ha = 'center')"
   ]
  },
  {
   "cell_type": "code",
   "execution_count": null,
   "id": "cc97dd54",
   "metadata": {},
   "outputs": [],
   "source": [
    "plt.bar(score_labels, scores_after_block_block_losing, color = [\"gray\", \"pink\"])\n",
    "plt.title(\"Average points scored by teams after block occured when blocking team was losing\")\n",
    "x = score_labels\n",
    "y = scores_after_block_block_losing\n",
    "for i in range(len(x)):\n",
    "        plt.text(i, y[i]//2, y[i], ha = 'center')"
   ]
  },
  {
   "cell_type": "code",
   "execution_count": null,
   "id": "f0f39b96",
   "metadata": {},
   "outputs": [],
   "source": [
    "plt.hist(puntData[yardline_100])"
   ]
  },
  {
   "cell_type": "code",
   "execution_count": null,
   "id": "ae08efbf",
   "metadata": {},
   "outputs": [],
   "source": []
  },
  {
   "cell_type": "code",
   "execution_count": null,
   "id": "c12b09f2",
   "metadata": {},
   "outputs": [],
   "source": []
  },
  {
   "cell_type": "code",
   "execution_count": null,
   "id": "6ad5d6f1",
   "metadata": {},
   "outputs": [],
   "source": []
  },
  {
   "cell_type": "code",
   "execution_count": null,
   "id": "195a99c5",
   "metadata": {},
   "outputs": [],
   "source": []
  },
  {
   "cell_type": "code",
   "execution_count": null,
   "id": "e4d9187a",
   "metadata": {},
   "outputs": [],
   "source": []
  }
 ],
 "metadata": {
  "kernelspec": {
   "display_name": "Python 3 (ipykernel)",
   "language": "python",
   "name": "python3"
  },
  "language_info": {
   "codemirror_mode": {
    "name": "ipython",
    "version": 3
   },
   "file_extension": ".py",
   "mimetype": "text/x-python",
   "name": "python",
   "nbconvert_exporter": "python",
   "pygments_lexer": "ipython3",
   "version": "3.10.4"
  }
 },
 "nbformat": 4,
 "nbformat_minor": 5
}
