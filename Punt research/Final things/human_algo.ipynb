{
 "cells": [
  {
   "cell_type": "markdown",
   "id": "993ba266",
   "metadata": {},
   "source": [
    "Punt Algorithm Values \n",
    "\n",
    "Sub 32 degrees - 0/1 \n",
    "Light/Moderate/Heavy Precipitation - 0/1/2  \n",
    "Over 15 MPH Wind - 0/1  \n",
    "Point Trailing/Time Left - 1 possession for every 120, if not, go for block  \n",
    "Field Position - Go for block is inside the 5, built into the algorithm otherwise  \n",
    "Top 5 Returner (Based on current NFL stats) - move response one threshold toward a return decision  \n",
    "Top 5 Punter (Based on current NFL stats) - move response one threshold toward a return decision  \n",
    "Elite QB (for you/for them) - move response one threshold toward a return/in one possession games, one threshold towards a return  \n",
    "Injury (LS/P/PR) - move response one threshold toward a block/move response one threshold toward a block/move response one threshold to a block  \n",
    "Threat of a fake (4&5 or less in a one possession game) - move response one threshold toward a return  \n",
    "\n",
    "Protection  \n",
    "Plus field position   \n",
    "\n"
   ]
  },
  {
   "cell_type": "code",
   "execution_count": null,
   "id": "a609b5d6",
   "metadata": {},
   "outputs": [],
   "source": [
    "def algo(yardline_value, precipitation_value, weather_value, \n",
    "         time_left, deficit, t5ret, t5punter, elite_qb_against, \n",
    "         elite_qb_for, injured_spec, protection_change, plus_field):\n"
   ]
  },
  {
   "cell_type": "code",
   "execution_count": null,
   "id": "a2fa22c3",
   "metadata": {},
   "outputs": [],
   "source": [
    "def algo(yardline_value, precipitation_value, weather_value, time_left, deficit, t5ret, t5punter, elite_qb_against, elite_qb_for, injured_spec, protection_change, plus_field):\n",
    "    str_to_return = \"Non Quantifiable Factors of Importance: \\n\"\n",
    "    possesions_needed = deficit/8\n",
    "    if(yardline_value < 5):\n",
    "        str_to_return += \"Backed up Punt improves chances of a block \\n\"\n",
    "    if(precipitation_value == 2):\n",
    "        str_to_return += \"High Precipitation levels, make a punt return difficuly \\n\"\n",
    "    if(weather_value == 2):\n",
    "        str_to_return += \"High Winds and Freezing temperaturs make a punt return difficult \\n\"\n",
    "    if(time_left < possesions_needed * 120):\n",
    "        str_to_return += \"Minimal time left so block may be neccessary \\n\"\n",
    "    if(t5ret):\n",
    "        str_to_return += \"Top 5 returner sways more towards going for a return \\n\"\n",
    "    if(t5punter):\n",
    "        str_to_return += \"Top 5 Punter sways more towards going for a block or safe return \\n\"\n",
    "    if(elite_qb_against == 0):\n",
    "        str_to_return += \"Risk of block not worth giving the ball back to other teams QB \\n\"\n",
    "    if(elite_qb_for):\n",
    "        str_to_return += \"Elite QB can make up for the need of a punt block \\n\"\n",
    "    if(injured_spec):\n",
    "        str_to_return += \"Slower operation time likely, block more favorable \\n\"\n",
    "    if(protection_change):\n",
    "        str_to_return += \"Personal Protector change can cause for miscommunication in the protection \\n\"\n",
    "        \n",
    "    \n",
    "    \n",
    "    \n",
    "    \n",
    "    \n",
    "    \n",
    "    \n",
    "    \n",
    "    \n",
    "    \n",
    "    \n",
    "    \n",
    "    \n",
    "    "
   ]
  },
  {
   "cell_type": "code",
   "execution_count": null,
   "id": "ea01d7bb",
   "metadata": {},
   "outputs": [],
   "source": []
  }
 ],
 "metadata": {
  "kernelspec": {
   "display_name": "Python 3 (ipykernel)",
   "language": "python",
   "name": "python3"
  },
  "language_info": {
   "codemirror_mode": {
    "name": "ipython",
    "version": 3
   },
   "file_extension": ".py",
   "mimetype": "text/x-python",
   "name": "python",
   "nbconvert_exporter": "python",
   "pygments_lexer": "ipython3",
   "version": "3.10.4"
  }
 },
 "nbformat": 4,
 "nbformat_minor": 5
}
