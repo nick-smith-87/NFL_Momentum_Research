{
 "cells": [
  {
   "cell_type": "code",
   "execution_count": null,
   "id": "c347c515",
   "metadata": {},
   "outputs": [],
   "source": [
    "import pandas as pd\n",
    "import numpy as np\n",
    "import nfl_data_py as nfl\n",
    "import matplotlib.pyplot as plt\n",
    "full_data = nfl.import_pbp_data([2021], downcast=True, cache=False, alt_path=None)"
   ]
  },
  {
   "cell_type": "code",
   "execution_count": null,
   "id": "7a300b20",
   "metadata": {},
   "outputs": [],
   "source": [
    "newData = full_data[['game_date', 'play_id', 'play_type_nfl', 'game_id', 'possession_team', 'home_team', 'away_team', 'total_home_score', 'total_away_score', 'home_score', 'away_score', 'wp', 'game_half', 'game_seconds_remaining', 'play_type', 'def_wp', 'punt_blocked', 'third_down_converted', 'third_down_failed', 'fourth_down_converted', 'fourth_down_failed', 'interception', 'punt_inside_twenty', 'kickoff_inside_twenty', 'kickoff_out_of_bounds', 'fumble_forced', 'fumble_not_forced', 'fumble_lost', 'fumble', 'safety', 'own_kickoff_recovery_td', 'qb_hit', 'sack', 'touchdown', 'pass_touchdown', 'rush_touchdown', 'return_touchdown', 'drive_ended_with_score']]\n",
    "newData = newData.rename(columns={\"wp\": \"win_percentage\", \"def_wp\": \"defense_win_percentage\"})\n",
    "newData"
   ]
  },
  {
   "cell_type": "code",
   "execution_count": null,
   "id": "90f9f1a8",
   "metadata": {},
   "outputs": [],
   "source": [
    "newData = newData[newData['game_id'] == '2021_01_CLE_KC']\n",
    "newData"
   ]
  },
  {
   "cell_type": "code",
   "execution_count": null,
   "id": "8ed338a1",
   "metadata": {},
   "outputs": [],
   "source": []
  }
 ],
 "metadata": {
  "kernelspec": {
   "display_name": "Python 3 (ipykernel)",
   "language": "python",
   "name": "python3"
  },
  "language_info": {
   "codemirror_mode": {
    "name": "ipython",
    "version": 3
   },
   "file_extension": ".py",
   "mimetype": "text/x-python",
   "name": "python",
   "nbconvert_exporter": "python",
   "pygments_lexer": "ipython3",
   "version": "3.10.4"
  }
 },
 "nbformat": 4,
 "nbformat_minor": 5
}
