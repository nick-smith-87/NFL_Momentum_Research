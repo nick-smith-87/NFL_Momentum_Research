{
 "cells": [
  {
   "cell_type": "code",
   "execution_count": 1,
   "id": "9c2bfe69",
   "metadata": {},
   "outputs": [],
   "source": [
    "import pandas as pd\n",
    "import matplotlib.pyplot as plt\n",
    "from sklearn.linear_model import LinearRegression\n",
    "from sklearn.model_selection import train_test_split"
   ]
  },
  {
   "cell_type": "code",
   "execution_count": 2,
   "id": "068f4e09",
   "metadata": {},
   "outputs": [],
   "source": [
    "###Copy this for other files for full database combined\n",
    "df06 = pd.read_csv(\"./Data/RB Research Data - 2006-2007.csv\")\n",
    "df07 = pd.read_csv(\"./Data/RB Research Data - 2007-2008.csv\")\n",
    "df08 = pd.read_csv(\"./Data/RB Research Data - 2008-2009.csv\")\n",
    "df09 = pd.read_csv(\"./Data/RB Research Data - 2009-2010.csv\")\n",
    "df10 = pd.read_csv(\"./Data/RB Research Data - 2010-2011.csv\")\n",
    "df11 = pd.read_csv(\"./Data/RB Research Data - 2011-2012.csv\")\n",
    "df12 = pd.read_csv(\"./Data/RB Research Data - 2012-2013.csv\")\n",
    "df13 = pd.read_csv(\"./Data/RB Research Data - 2013-2014.csv\")\n",
    "df14 = pd.read_csv(\"./Data/RB Research Data - 2014-2015.csv\")\n",
    "df15 = pd.read_csv(\"./Data/RB Research Data - 2015-2016.csv\")\n",
    "df16 = pd.read_csv(\"./Data/RB Research Data - 2016-2017.csv\")\n",
    "df17 = pd.read_csv(\"./Data/RB Research Data - 2017-2018.csv\")\n",
    "df18 = pd.read_csv(\"./Data/RB Research Data - 2018-2019.csv\")\n",
    "df19 = pd.read_csv(\"./Data/RB Research Data - 2019-2020.csv\")\n",
    "df20 = pd.read_csv(\"./Data/RB Research Data - 2020-2021.csv\")\n",
    "df21 = pd.read_csv(\"./Data/RB Research Data - 2021-2022.csv\")\n",
    "df22 = pd.read_csv(\"./Data/RB Research Data - 2022-2023.csv\")\n",
    "df = pd.concat([df06, df07, df08, df09, df10, df11, df12, df13, df14, df15, df16, df17, df18, df19, df20, df21, df22])\n",
    "#df"
   ]
  },
  {
   "cell_type": "code",
   "execution_count": 3,
   "id": "6376ea44",
   "metadata": {},
   "outputs": [
    {
     "data": {
      "text/html": [
       "<div>\n",
       "<style scoped>\n",
       "    .dataframe tbody tr th:only-of-type {\n",
       "        vertical-align: middle;\n",
       "    }\n",
       "\n",
       "    .dataframe tbody tr th {\n",
       "        vertical-align: top;\n",
       "    }\n",
       "\n",
       "    .dataframe thead th {\n",
       "        text-align: right;\n",
       "    }\n",
       "</style>\n",
       "<table border=\"1\" class=\"dataframe\">\n",
       "  <thead>\n",
       "    <tr style=\"text-align: right;\">\n",
       "      <th></th>\n",
       "      <th>Player Name</th>\n",
       "      <th>Team</th>\n",
       "      <th>Year</th>\n",
       "      <th>Rookie Contract (Y/N)</th>\n",
       "      <th>Contract Length</th>\n",
       "      <th>Total Pay</th>\n",
       "      <th>Yearly Pay (AAV)</th>\n",
       "      <th>Team Payroll</th>\n",
       "      <th>Player Percentage of Payroll</th>\n",
       "      <th>Games Played</th>\n",
       "      <th>Snaps Played</th>\n",
       "      <th>Backfield Snaps</th>\n",
       "      <th>Slot Snaps</th>\n",
       "      <th>Wide snaps</th>\n",
       "      <th>QB Pressure Allowed (PR)</th>\n",
       "      <th>Total Pressure Oppurtnuties (OPP)</th>\n",
       "      <th>Rush Attempts</th>\n",
       "      <th>Rush Yards</th>\n",
       "      <th>Rush YPA</th>\n",
       "      <th>Rush TDs</th>\n",
       "      <th>Rush Yac (YCO)</th>\n",
       "      <th>Fumbles</th>\n",
       "      <th>Explosive Runs (10+)</th>\n",
       "      <th>Recieving Targets</th>\n",
       "      <th>Recieving Receptions</th>\n",
       "      <th>Recieving Yards</th>\n",
       "      <th>Y/Rec</th>\n",
       "      <th>Receiving TDs</th>\n",
       "      <th>YAC/REC</th>\n",
       "      <th>All-Purpose Yards</th>\n",
       "      <th>Team Rushing Yards</th>\n",
       "      <th>Team Total Yards</th>\n",
       "      <th>Team Total Touchdowns</th>\n",
       "      <th>Player Percentage of Rushing Yards</th>\n",
       "      <th>Player Percentage of Offensive Yards</th>\n",
       "      <th>Player Percentage of Touchdowns</th>\n",
       "      <th>AAV Adjusted</th>\n",
       "      <th>Total Pay Adjusted</th>\n",
       "      <th>Payroll Adjusted</th>\n",
       "      <th>Unnamed: 0</th>\n",
       "    </tr>\n",
       "  </thead>\n",
       "  <tbody>\n",
       "    <tr>\n",
       "      <th>0</th>\n",
       "      <td>Edgerrin James</td>\n",
       "      <td>ARI</td>\n",
       "      <td>2006</td>\n",
       "      <td>N</td>\n",
       "      <td>4.0</td>\n",
       "      <td>30000000.0</td>\n",
       "      <td>7500000.000</td>\n",
       "      <td>102000000</td>\n",
       "      <td>0.073529</td>\n",
       "      <td>16</td>\n",
       "      <td>782</td>\n",
       "      <td>781</td>\n",
       "      <td>0</td>\n",
       "      <td>1</td>\n",
       "      <td>5</td>\n",
       "      <td>90</td>\n",
       "      <td>337</td>\n",
       "      <td>1162</td>\n",
       "      <td>3.448071</td>\n",
       "      <td>6</td>\n",
       "      <td>816</td>\n",
       "      <td>4</td>\n",
       "      <td>20</td>\n",
       "      <td>53</td>\n",
       "      <td>37</td>\n",
       "      <td>211</td>\n",
       "      <td>5.702703</td>\n",
       "      <td>0</td>\n",
       "      <td>4.8</td>\n",
       "      <td>1373</td>\n",
       "      <td>1338</td>\n",
       "      <td>5262</td>\n",
       "      <td>29</td>\n",
       "      <td>0.868460</td>\n",
       "      <td>0.260927</td>\n",
       "      <td>0.206897</td>\n",
       "      <td>1.142250e+07</td>\n",
       "      <td>45690000.0</td>\n",
       "      <td>155346000.0</td>\n",
       "      <td>NaN</td>\n",
       "    </tr>\n",
       "    <tr>\n",
       "      <th>1</th>\n",
       "      <td>Warrick Dunn</td>\n",
       "      <td>ATL</td>\n",
       "      <td>2006</td>\n",
       "      <td>N</td>\n",
       "      <td>3.0</td>\n",
       "      <td>12450000.0</td>\n",
       "      <td>4150000.000</td>\n",
       "      <td>102000000</td>\n",
       "      <td>0.040686</td>\n",
       "      <td>16</td>\n",
       "      <td>767</td>\n",
       "      <td>758</td>\n",
       "      <td>4</td>\n",
       "      <td>4</td>\n",
       "      <td>14</td>\n",
       "      <td>143</td>\n",
       "      <td>286</td>\n",
       "      <td>1140</td>\n",
       "      <td>3.986014</td>\n",
       "      <td>4</td>\n",
       "      <td>676</td>\n",
       "      <td>1</td>\n",
       "      <td>18</td>\n",
       "      <td>25</td>\n",
       "      <td>22</td>\n",
       "      <td>170</td>\n",
       "      <td>7.727273</td>\n",
       "      <td>1</td>\n",
       "      <td>7.6</td>\n",
       "      <td>1310</td>\n",
       "      <td>2939</td>\n",
       "      <td>5310</td>\n",
       "      <td>30</td>\n",
       "      <td>0.387887</td>\n",
       "      <td>0.246704</td>\n",
       "      <td>0.166667</td>\n",
       "      <td>6.320450e+06</td>\n",
       "      <td>18961350.0</td>\n",
       "      <td>155346000.0</td>\n",
       "      <td>NaN</td>\n",
       "    </tr>\n",
       "    <tr>\n",
       "      <th>2</th>\n",
       "      <td>Jamal Lewis</td>\n",
       "      <td>BAL</td>\n",
       "      <td>2006</td>\n",
       "      <td>N</td>\n",
       "      <td>3.0</td>\n",
       "      <td>26000000.0</td>\n",
       "      <td>8666666.667</td>\n",
       "      <td>102000000</td>\n",
       "      <td>0.084967</td>\n",
       "      <td>17</td>\n",
       "      <td>690</td>\n",
       "      <td>670</td>\n",
       "      <td>14</td>\n",
       "      <td>5</td>\n",
       "      <td>12</td>\n",
       "      <td>118</td>\n",
       "      <td>327</td>\n",
       "      <td>1184</td>\n",
       "      <td>3.620795</td>\n",
       "      <td>9</td>\n",
       "      <td>825</td>\n",
       "      <td>3</td>\n",
       "      <td>24</td>\n",
       "      <td>26</td>\n",
       "      <td>21</td>\n",
       "      <td>139</td>\n",
       "      <td>6.619048</td>\n",
       "      <td>0</td>\n",
       "      <td>7.8</td>\n",
       "      <td>1323</td>\n",
       "      <td>1637</td>\n",
       "      <td>5072</td>\n",
       "      <td>32</td>\n",
       "      <td>0.723274</td>\n",
       "      <td>0.260844</td>\n",
       "      <td>0.281250</td>\n",
       "      <td>1.319933e+07</td>\n",
       "      <td>39598000.0</td>\n",
       "      <td>155346000.0</td>\n",
       "      <td>NaN</td>\n",
       "    </tr>\n",
       "    <tr>\n",
       "      <th>3</th>\n",
       "      <td>Willis McGahee</td>\n",
       "      <td>BUF</td>\n",
       "      <td>2006</td>\n",
       "      <td>Y</td>\n",
       "      <td>5.0</td>\n",
       "      <td>7053000.0</td>\n",
       "      <td>1410600.000</td>\n",
       "      <td>102000000</td>\n",
       "      <td>0.013829</td>\n",
       "      <td>14</td>\n",
       "      <td>605</td>\n",
       "      <td>598</td>\n",
       "      <td>4</td>\n",
       "      <td>3</td>\n",
       "      <td>11</td>\n",
       "      <td>125</td>\n",
       "      <td>260</td>\n",
       "      <td>995</td>\n",
       "      <td>3.826923</td>\n",
       "      <td>6</td>\n",
       "      <td>606</td>\n",
       "      <td>4</td>\n",
       "      <td>23</td>\n",
       "      <td>23</td>\n",
       "      <td>18</td>\n",
       "      <td>156</td>\n",
       "      <td>8.666667</td>\n",
       "      <td>0</td>\n",
       "      <td>11.6</td>\n",
       "      <td>1151</td>\n",
       "      <td>1552</td>\n",
       "      <td>4271</td>\n",
       "      <td>28</td>\n",
       "      <td>0.641108</td>\n",
       "      <td>0.269492</td>\n",
       "      <td>0.214286</td>\n",
       "      <td>2.148344e+06</td>\n",
       "      <td>10741719.0</td>\n",
       "      <td>155346000.0</td>\n",
       "      <td>NaN</td>\n",
       "    </tr>\n",
       "    <tr>\n",
       "      <th>4</th>\n",
       "      <td>Deshaun Foster</td>\n",
       "      <td>CAR</td>\n",
       "      <td>2006</td>\n",
       "      <td>N</td>\n",
       "      <td>3.0</td>\n",
       "      <td>14500000.0</td>\n",
       "      <td>4833333.333</td>\n",
       "      <td>102000000</td>\n",
       "      <td>0.047386</td>\n",
       "      <td>14</td>\n",
       "      <td>594</td>\n",
       "      <td>555</td>\n",
       "      <td>4</td>\n",
       "      <td>31</td>\n",
       "      <td>9</td>\n",
       "      <td>117</td>\n",
       "      <td>226</td>\n",
       "      <td>901</td>\n",
       "      <td>3.986726</td>\n",
       "      <td>3</td>\n",
       "      <td>559</td>\n",
       "      <td>5</td>\n",
       "      <td>26</td>\n",
       "      <td>43</td>\n",
       "      <td>33</td>\n",
       "      <td>161</td>\n",
       "      <td>4.878788</td>\n",
       "      <td>0</td>\n",
       "      <td>5.3</td>\n",
       "      <td>1062</td>\n",
       "      <td>1659</td>\n",
       "      <td>4923</td>\n",
       "      <td>26</td>\n",
       "      <td>0.543098</td>\n",
       "      <td>0.215722</td>\n",
       "      <td>0.115385</td>\n",
       "      <td>7.361167e+06</td>\n",
       "      <td>22083500.0</td>\n",
       "      <td>155346000.0</td>\n",
       "      <td>NaN</td>\n",
       "    </tr>\n",
       "  </tbody>\n",
       "</table>\n",
       "</div>"
      ],
      "text/plain": [
       "      Player Name Team  Year Rookie Contract (Y/N)  Contract Length  \\\n",
       "0  Edgerrin James  ARI  2006                     N              4.0   \n",
       "1    Warrick Dunn  ATL  2006                     N              3.0   \n",
       "2     Jamal Lewis  BAL  2006                     N              3.0   \n",
       "3  Willis McGahee  BUF  2006                     Y              5.0   \n",
       "4  Deshaun Foster  CAR  2006                     N              3.0   \n",
       "\n",
       "    Total Pay  Yearly Pay (AAV)  Team Payroll  Player Percentage of Payroll  \\\n",
       "0  30000000.0       7500000.000     102000000                      0.073529   \n",
       "1  12450000.0       4150000.000     102000000                      0.040686   \n",
       "2  26000000.0       8666666.667     102000000                      0.084967   \n",
       "3   7053000.0       1410600.000     102000000                      0.013829   \n",
       "4  14500000.0       4833333.333     102000000                      0.047386   \n",
       "\n",
       "   Games Played  Snaps Played  Backfield Snaps  Slot Snaps  Wide snaps  \\\n",
       "0            16           782              781           0           1   \n",
       "1            16           767              758           4           4   \n",
       "2            17           690              670          14           5   \n",
       "3            14           605              598           4           3   \n",
       "4            14           594              555           4          31   \n",
       "\n",
       "   QB Pressure Allowed (PR)  Total Pressure Oppurtnuties (OPP)  Rush Attempts  \\\n",
       "0                         5                                 90            337   \n",
       "1                        14                                143            286   \n",
       "2                        12                                118            327   \n",
       "3                        11                                125            260   \n",
       "4                         9                                117            226   \n",
       "\n",
       "   Rush Yards  Rush YPA  Rush TDs  Rush Yac (YCO)  Fumbles  \\\n",
       "0        1162  3.448071         6             816        4   \n",
       "1        1140  3.986014         4             676        1   \n",
       "2        1184  3.620795         9             825        3   \n",
       "3         995  3.826923         6             606        4   \n",
       "4         901  3.986726         3             559        5   \n",
       "\n",
       "   Explosive Runs (10+)  Recieving Targets  Recieving Receptions  \\\n",
       "0                    20                 53                    37   \n",
       "1                    18                 25                    22   \n",
       "2                    24                 26                    21   \n",
       "3                    23                 23                    18   \n",
       "4                    26                 43                    33   \n",
       "\n",
       "   Recieving Yards     Y/Rec  Receiving TDs  YAC/REC  All-Purpose Yards  \\\n",
       "0              211  5.702703              0      4.8               1373   \n",
       "1              170  7.727273              1      7.6               1310   \n",
       "2              139  6.619048              0      7.8               1323   \n",
       "3              156  8.666667              0     11.6               1151   \n",
       "4              161  4.878788              0      5.3               1062   \n",
       "\n",
       "   Team Rushing Yards  Team Total Yards  Team Total Touchdowns  \\\n",
       "0                1338              5262                     29   \n",
       "1                2939              5310                     30   \n",
       "2                1637              5072                     32   \n",
       "3                1552              4271                     28   \n",
       "4                1659              4923                     26   \n",
       "\n",
       "   Player Percentage of Rushing Yards  Player Percentage of Offensive Yards  \\\n",
       "0                            0.868460                              0.260927   \n",
       "1                            0.387887                              0.246704   \n",
       "2                            0.723274                              0.260844   \n",
       "3                            0.641108                              0.269492   \n",
       "4                            0.543098                              0.215722   \n",
       "\n",
       "   Player Percentage of Touchdowns  AAV Adjusted  Total Pay Adjusted  \\\n",
       "0                         0.206897  1.142250e+07          45690000.0   \n",
       "1                         0.166667  6.320450e+06          18961350.0   \n",
       "2                         0.281250  1.319933e+07          39598000.0   \n",
       "3                         0.214286  2.148344e+06          10741719.0   \n",
       "4                         0.115385  7.361167e+06          22083500.0   \n",
       "\n",
       "   Payroll Adjusted Unnamed: 0  \n",
       "0       155346000.0        NaN  \n",
       "1       155346000.0        NaN  \n",
       "2       155346000.0        NaN  \n",
       "3       155346000.0        NaN  \n",
       "4       155346000.0        NaN  "
      ]
     },
     "execution_count": 3,
     "metadata": {},
     "output_type": "execute_result"
    }
   ],
   "source": [
    "pd.set_option('display.max_columns', None)\n",
    "df.head()"
   ]
  },
  {
   "cell_type": "code",
   "execution_count": 4,
   "id": "36f74fa2",
   "metadata": {},
   "outputs": [],
   "source": [
    "superbowlWinningTeamSeasonLeadRushers = ['Joseph Addai', 'Brandon Jacobs', 'Willie Parker', 'Pierre Thomas', 'Brandon Jackson', 'Ahmad Bradshaw', 'Ray Rice', 'Marshawn Lynch', 'Jonas Gray', 'Ronnie Hillman', 'LeGarrette Blount', 'LeGarrette Blount', 'Sony Michel', 'Damien Williams', 'Ronald Jones II', 'Sony Michel', 'Isiah Pacheco']"
   ]
  },
  {
   "cell_type": "code",
   "execution_count": 5,
   "id": "6e96b0f6",
   "metadata": {},
   "outputs": [],
   "source": [
    "superbowlWinningTeamGameLeadRushers = ['Dominic Rhodes', 'Ahmad Bradshaw', 'Willie Parker', 'Pierre Thomas', 'James Starks', 'Ahmad Bradshaw', 'Ray Rice', 'Percy Harvin', 'LeGarrette Blount', 'C.J. Anderson', 'LeGarrette Blount', 'LeGarrette Blount', 'Sony Michel', 'Damien Williams', 'Leonard Fournette', 'Cam Akers', 'Isiah Pacheco']"
   ]
  },
  {
   "cell_type": "code",
   "execution_count": 6,
   "id": "90bab36e",
   "metadata": {},
   "outputs": [],
   "source": [
    "years = list(range(2006, 2023))\n",
    "year_player_season_array = list(zip(years, superbowlWinningTeamSeasonLeadRushers))\n",
    "year_player_game_array = list(zip(years, superbowlWinningTeamGameLeadRushers))"
   ]
  },
  {
   "cell_type": "code",
   "execution_count": 7,
   "id": "3ab67c3e",
   "metadata": {},
   "outputs": [
    {
     "name": "stdout",
     "output_type": "stream",
     "text": [
      "Average AAV for filtered Super Bowl-winning RBs: $2,306,180.80\n",
      "Average AAV for other RBs (filtered): $3,635,595.37\n",
      "Average Total Pay for filtered Super Bowl-winning RBs: $7,092,202.38\n",
      "Average Total Pay for other RBs (filtered): $15,284,385.27\n",
      "Average Rush Yards for filtered Super Bowl-winning RBs: 1044.19\n",
      "Average Rush Yards for other RBs (filtered): 984.38\n"
     ]
    }
   ],
   "source": [
    "# Filter the dataframe to include only the Super Bowl-winning running backs from their respective winning years\n",
    "winners_filtered = df[df[['Year', 'Player Name']].apply(tuple, axis=1).isin(year_player_season_array)]\n",
    "\n",
    "# Filter the dataframe to exclude the Super Bowl-winning running backs from their respective winning years\n",
    "others_filtered = df[~df[['Year', 'Player Name']].apply(tuple, axis=1).isin(year_player_season_array)]\n",
    "\n",
    "# AAV\n",
    "average_aav_winners_filtered = winners_filtered['Yearly Pay (AAV)'].mean()\n",
    "average_aav_others_filtered = others_filtered['Yearly Pay (AAV)'].mean()\n",
    "\n",
    "# Total Pay\n",
    "average_total_pay_winners_filtered = winners_filtered['Total Pay'].mean()\n",
    "average_total_pay_others_filtered = others_filtered['Total Pay'].mean()\n",
    "\n",
    "# Rush Yards\n",
    "average_rush_yards_winners_filtered = winners_filtered['Rush Yards'].mean()\n",
    "average_rush_yards_others_filtered = others_filtered['Rush Yards'].mean()\n",
    "\n",
    "print(f\"Average AAV for filtered Super Bowl-winning RBs: ${average_aav_winners_filtered:,.2f}\")\n",
    "print(f\"Average AAV for other RBs (filtered): ${average_aav_others_filtered:,.2f}\")\n",
    "print(f\"Average Total Pay for filtered Super Bowl-winning RBs: ${average_total_pay_winners_filtered:,.2f}\")\n",
    "print(f\"Average Total Pay for other RBs (filtered): ${average_total_pay_others_filtered:,.2f}\")\n",
    "print(f\"Average Rush Yards for filtered Super Bowl-winning RBs: {average_rush_yards_winners_filtered:.2f}\")\n",
    "print(f\"Average Rush Yards for other RBs (filtered): {average_rush_yards_others_filtered:.2f}\")"
   ]
  },
  {
   "cell_type": "code",
   "execution_count": 8,
   "id": "80975ed8",
   "metadata": {},
   "outputs": [
    {
     "data": {
      "image/png": "[encoded data removed]",
      "text/plain": [
       "<Figure size 432x288 with 1 Axes>"
      ]
     },
     "metadata": {
      "needs_background": "light"
     },
     "output_type": "display_data"
    },
    {
     "data": {
      "image/png": "[encoded data removed]",
      "text/plain": [
       "<Figure size 432x288 with 1 Axes>"
      ]
     },
     "metadata": {
      "needs_background": "light"
     },
     "output_type": "display_data"
    },
    {
     "data": {
      "image/png": "[encoded data removed]",
      "text/plain": [
       "<Figure size 432x288 with 1 Axes>"
      ]
     },
     "metadata": {
      "needs_background": "light"
     },
     "output_type": "display_data"
    }
   ],
   "source": [
    "import matplotlib.pyplot as plt\n",
    "\n",
    "def create_bar_graph(metric_name, winner_value, other_value, title):\n",
    "    categories = ['Super Bowl Winners', 'Others']\n",
    "    values = [winner_value, other_value]\n",
    "    colors = ['b', 'r']\n",
    "\n",
    "    plt.bar(categories, values, color=colors)\n",
    "    plt.ylabel(metric_name)\n",
    "    plt.title(title)\n",
    "    plt.tight_layout()\n",
    "    plt.show()\n",
    "\n",
    "# Bar graph for Yearly Pay (AAV)\n",
    "create_bar_graph('Yearly Pay (AAV)', average_aav_winners_filtered, average_aav_others_filtered, 'Comparison of Yearly Pay (AAV)')\n",
    "\n",
    "# Bar graph for Total Pay\n",
    "create_bar_graph('Total Pay', average_total_pay_winners_filtered, average_total_pay_others_filtered, 'Comparison of Total Pay')\n",
    "\n",
    "# Bar graph for Rush Yards\n",
    "create_bar_graph('Rush Yards', average_rush_yards_winners_filtered, average_rush_yards_others_filtered, 'Comparison of Rush Yards')"
   ]
  },
  {
   "cell_type": "code",
   "execution_count": 9,
   "id": "bfe6c532",
   "metadata": {},
   "outputs": [
    {
     "name": "stdout",
     "output_type": "stream",
     "text": [
      "Number of matching names at the same index: 9/17\n",
      "Indices where names match: [2, 3, 5, 6, 10, 11, 12, 13, 16]\n"
     ]
    }
   ],
   "source": [
    "matching_indices = [i for i, (season, game) in enumerate(zip(superbowlWinningTeamSeasonLeadRushers, superbowlWinningTeamGameLeadRushers)) if season == game]\n",
    "\n",
    "number_of_matches = len(matching_indices)\n",
    "number_of_seasons = len(superbowlWinningTeamSeasonLeadRushers)\n",
    "\n",
    "print(f\"Number of matching names at the same index: {number_of_matches}/{number_of_seasons}\")\n",
    "print(f\"Indices where names match: {matching_indices}\")"
   ]
  },
  {
   "cell_type": "code",
   "execution_count": 10,
   "id": "7b35386e",
   "metadata": {},
   "outputs": [
    {
     "name": "stdout",
     "output_type": "stream",
     "text": [
      "[(2008, 'Willie Parker'), (2009, 'Pierre Thomas'), (2011, 'Ahmad Bradshaw'), (2012, 'Ray Rice'), (2016, 'LeGarrette Blount'), (2017, 'LeGarrette Blount'), (2018, 'Sony Michel'), (2019, 'Damien Williams'), (2022, 'Isiah Pacheco')]\n"
     ]
    }
   ],
   "source": [
    "#lead rusher for the season and super bowl\n",
    "year_player_season_and_game_array = [year_player_season_array[i] for i in matching_indices]\n",
    "print(year_player_season_and_game_array)"
   ]
  },
  {
   "cell_type": "code",
   "execution_count": 11,
   "id": "b34db32a",
   "metadata": {},
   "outputs": [
    {
     "name": "stdout",
     "output_type": "stream",
     "text": [
      "Average AAV for filtered Super Bowl-winning RBs: $2,589,348.01\n",
      "Average AAV for other RBs (filtered): $3,611,436.84\n",
      "Average Total Pay for filtered Super Bowl-winning RBs: $5,941,975.38\n",
      "Average Total Pay for other RBs (filtered): $15,178,887.81\n",
      "Average Rush Yards for filtered Super Bowl-winning RBs: 1059.00\n",
      "Average Rush Yards for other RBs (filtered): 985.06\n"
     ]
    }
   ],
   "source": [
    "# Filter the dataframe to include only the Super Bowl-winning running backs from their respective winning years\n",
    "winners_filtered = df[df[['Year', 'Player Name']].apply(tuple, axis=1).isin(year_player_season_and_game_array)]\n",
    "\n",
    "# Filter the dataframe to exclude the Super Bowl-winning running backs from their respective winning years\n",
    "others_filtered = df[~df[['Year', 'Player Name']].apply(tuple, axis=1).isin(year_player_season_and_game_array)]\n",
    "\n",
    "# AAV\n",
    "average_aav_winners_filtered = winners_filtered['Yearly Pay (AAV)'].mean()\n",
    "average_aav_others_filtered = others_filtered['Yearly Pay (AAV)'].mean()\n",
    "\n",
    "# Total Pay\n",
    "average_total_pay_winners_filtered = winners_filtered['Total Pay'].mean()\n",
    "average_total_pay_others_filtered = others_filtered['Total Pay'].mean()\n",
    "\n",
    "# Rush Yards\n",
    "average_rush_yards_winners_filtered = winners_filtered['Rush Yards'].mean()\n",
    "average_rush_yards_others_filtered = others_filtered['Rush Yards'].mean()\n",
    "\n",
    "print(f\"Average AAV for filtered Super Bowl-winning RBs: ${average_aav_winners_filtered:,.2f}\")\n",
    "print(f\"Average AAV for other RBs (filtered): ${average_aav_others_filtered:,.2f}\")\n",
    "print(f\"Average Total Pay for filtered Super Bowl-winning RBs: ${average_total_pay_winners_filtered:,.2f}\")\n",
    "print(f\"Average Total Pay for other RBs (filtered): ${average_total_pay_others_filtered:,.2f}\")\n",
    "print(f\"Average Rush Yards for filtered Super Bowl-winning RBs: {average_rush_yards_winners_filtered:.2f}\")\n",
    "print(f\"Average Rush Yards for other RBs (filtered): {average_rush_yards_others_filtered:.2f}\")"
   ]
  },
  {
   "cell_type": "code",
   "execution_count": 12,
   "id": "880d3bcb",
   "metadata": {},
   "outputs": [
    {
     "data": {
      "image/png": "[encoded data removed]",
      "text/plain": [
       "<Figure size 432x288 with 1 Axes>"
      ]
     },
     "metadata": {
      "needs_background": "light"
     },
     "output_type": "display_data"
    },
    {
     "data": {
      "image/png": "[encoded data removed]",
      "text/plain": [
       "<Figure size 432x288 with 1 Axes>"
      ]
     },
     "metadata": {
      "needs_background": "light"
     },
     "output_type": "display_data"
    },
    {
     "data": {
      "image/png": "[encoded data removed]",
      "text/plain": [
       "<Figure size 432x288 with 1 Axes>"
      ]
     },
     "metadata": {
      "needs_background": "light"
     },
     "output_type": "display_data"
    }
   ],
   "source": [
    "# Bar graph for Yearly Pay (AAV)\n",
    "create_bar_graph('Yearly Pay (AAV)', average_aav_winners_filtered, average_aav_others_filtered, 'Comparison of Yearly Pay (AAV)')\n",
    "\n",
    "# Bar graph for Total Pay\n",
    "create_bar_graph('Total Pay', average_total_pay_winners_filtered, average_total_pay_others_filtered, 'Comparison of Total Pay')\n",
    "\n",
    "# Bar graph for Rush Yards\n",
    "create_bar_graph('Rush Yards', average_rush_yards_winners_filtered, average_rush_yards_others_filtered, 'Comparison of Rush Yards')"
   ]
  },
  {
   "cell_type": "code",
   "execution_count": null,
   "id": "ec30230a",
   "metadata": {},
   "outputs": [],
   "source": []
  }
 ],
 "metadata": {
  "kernelspec": {
   "display_name": "Python 3 (ipykernel)",
   "language": "python",
   "name": "python3"
  },
  "language_info": {
   "codemirror_mode": {
    "name": "ipython",
    "version": 3
   },
   "file_extension": ".py",
   "mimetype": "text/x-python",
   "name": "python",
   "nbconvert_exporter": "python",
   "pygments_lexer": "ipython3",
   "version": "3.9.12"
  }
 },
 "nbformat": 4,
 "nbformat_minor": 5
}
